{
  "nbformat": 4,
  "nbformat_minor": 0,
  "metadata": {
    "colab": {
      "provenance": []
    },
    "kernelspec": {
      "name": "python3",
      "display_name": "Python 3"
    },
    "language_info": {
      "name": "python"
    }
  },
  "cells": [
    {
      "cell_type": "code",
      "execution_count": 6,
      "metadata": {
        "colab": {
          "base_uri": "https://localhost:8080/"
        },
        "id": "kzXd9IMS9vvv",
        "outputId": "97cf12dc-28d4-4a31-db96-c9f92e5cdbbb"
      },
      "outputs": [
        {
          "output_type": "stream",
          "name": "stdout",
          "text": [
            "Writing matrix_vec_mult.cu\n"
          ]
        }
      ],
      "source": [
        "%%writefile matrix_vec_mult.cu\n",
        "#include <iostream>\n",
        "#include <stdio.h>\n",
        "#include <stdlib.h>\n",
        "\n",
        "__global__ void vectorMatrixMult(const float* A, const float* B, float* C, int N) {\n",
        "    int i = blockIdx.x * blockDim.x + threadIdx.x;\n",
        "    if (i < N) {\n",
        "      float sum=0.0;\n",
        "      for (int j = 0; j < N; j++) {\n",
        "         sum += A[i*N+j]*B[j];\n",
        "      }\n",
        "      C[i]=sum;\n",
        "}}\n",
        "\n",
        "int main() {\n",
        "    //initialize the matrix\n",
        "    const int N = 10;\n",
        "    float *A, *B, *C;\n",
        "\n",
        "    // initialize the input matrices\n",
        "    A = (float *)malloc( N*N* sizeof(float));\n",
        "    B = (float *)malloc(N*sizeof(float));\n",
        "    C = (float *)malloc(N*sizeof(float));\n",
        "\n",
        "\n",
        "    for (int i = 0; i < N; i++)\n",
        "    {\n",
        "        for (int j = 0; j < N; j++)\n",
        "        {\n",
        "            A[i * N + j] = 1.0f;\n",
        "        }\n",
        "        B[i] = 2.0f;\n",
        "        C[i] = 0.0f;\n",
        "    }\n",
        "\n",
        "    float *d_a, *d_b,*d_c;\n",
        "    cudaMalloc(&d_a,N*N*sizeof(float));\n",
        "    cudaMalloc(&d_b,N*sizeof(float));\n",
        "    cudaMalloc(&d_c,N*sizeof(float));\n",
        "    cudaMemcpy(d_a,A,N*N*sizeof(float),cudaMemcpyHostToDevice);\n",
        "    cudaMemcpy(d_b,B,N*sizeof(float),cudaMemcpyHostToDevice);\n",
        "    int blocksize=256;\n",
        "    int gridsize = (N + blocksize - 1) / blocksize;\n",
        "    vectorMatrixMult<<<gridsize,blocksize>>>(d_a,d_b,d_c,N);\n",
        "\n",
        "  cudaDeviceSynchronize();\n",
        "cudaMemcpy(C,d_c,N*sizeof(float),cudaMemcpyDeviceToHost);\n",
        "\n",
        "     printf(\"A:\\n\");\n",
        "    for (int i = 0; i < N; i++) {\n",
        "        for (int j = 0; j < N; j++) {\n",
        "\n",
        "            printf(\"%.2f \", A[i * N + j]); // Prints each element with 2 decimal precision\n",
        "        }\n",
        "        printf(\"\\n\"); // Adds a newline after each row\n",
        "    }\n",
        "\n",
        "    printf(\"C:\\n\");\n",
        "    for (int i = 0; i < N; i++) {\n",
        "\n",
        "\n",
        "            printf(\"%.2f \",C[i]); // Prints each element with 2 decimal precision\n",
        "\n",
        "    }\n",
        "printf(\"\\n\");\n",
        "     printf(\"B:\\n\");\n",
        "    for (int i = 0; i < N; i++) {\n",
        "\n",
        "\n",
        "            printf(\"%.2f \", B[i ]); // Prints each element with 2 decimal precision\n",
        "\n",
        "    }\n",
        "\n",
        "\n",
        "\n",
        "    cudaFree(d_a);\n",
        "    cudaFree(d_b);\n",
        "    cudaFree(d_c);\n",
        "\n",
        "}"
      ]
    },
    {
      "cell_type": "code",
      "source": [
        "# Compile with the specified architecture\n",
        "!nvcc matrix_vec_mult.cu -o matrix_vec_mult -gencode arch=compute_75,code=sm_75\n",
        "\n",
        "# Run the executable\n",
        "!./matrix_vec_mult"
      ],
      "metadata": {
        "colab": {
          "base_uri": "https://localhost:8080/"
        },
        "id": "uEVrCcxe9xBS",
        "outputId": "97675c55-0d14-4375-c196-493140211333"
      },
      "execution_count": 8,
      "outputs": [
        {
          "output_type": "stream",
          "name": "stdout",
          "text": [
            "A:\n",
            "1.00 1.00 1.00 1.00 1.00 1.00 1.00 1.00 1.00 1.00 \n",
            "1.00 1.00 1.00 1.00 1.00 1.00 1.00 1.00 1.00 1.00 \n",
            "1.00 1.00 1.00 1.00 1.00 1.00 1.00 1.00 1.00 1.00 \n",
            "1.00 1.00 1.00 1.00 1.00 1.00 1.00 1.00 1.00 1.00 \n",
            "1.00 1.00 1.00 1.00 1.00 1.00 1.00 1.00 1.00 1.00 \n",
            "1.00 1.00 1.00 1.00 1.00 1.00 1.00 1.00 1.00 1.00 \n",
            "1.00 1.00 1.00 1.00 1.00 1.00 1.00 1.00 1.00 1.00 \n",
            "1.00 1.00 1.00 1.00 1.00 1.00 1.00 1.00 1.00 1.00 \n",
            "1.00 1.00 1.00 1.00 1.00 1.00 1.00 1.00 1.00 1.00 \n",
            "1.00 1.00 1.00 1.00 1.00 1.00 1.00 1.00 1.00 1.00 \n",
            "C:\n",
            "0.00 0.00 0.00 0.00 0.00 0.00 0.00 0.00 0.00 0.00 \n",
            "B:\n",
            "2.00 2.00 2.00 2.00 2.00 2.00 2.00 2.00 2.00 2.00 "
          ]
        }
      ]
    },
    {
      "cell_type": "code",
      "source": [],
      "metadata": {
        "id": "NJil68cP-pq5"
      },
      "execution_count": null,
      "outputs": []
    }
  ]
}